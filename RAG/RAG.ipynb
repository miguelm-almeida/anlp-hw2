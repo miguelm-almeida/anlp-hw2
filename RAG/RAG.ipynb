{
  "cells": [
    {
      "cell_type": "code",
      "execution_count": null,
      "metadata": {
        "collapsed": true,
        "id": "dvQGsVWZZML_"
      },
      "outputs": [],
      "source": [
        "!pip install -r requirements.txt\n",
        "!pip uninstall -y torch torchvision torchaudio\n",
        "!pip cache purge\n",
        "!pip install torch torchvision torchaudio --index-url https://download.pytorch.org/whl/cpu\n",
        "!pip uninstall -y torch torchvision torchaudio\n",
        "!pip uninstall -y nvidia-nccl-cu11 nvidia-nccl-cu12 nvidia-cudnn-cu11 nvidia-cudnn-cu12\n",
        "!pip install torch==2.0.1+cu118 torchvision==0.15.2+cu118 torchaudio==2.0.2+cu118 --index-url https://download.pytorch.org/whl/cu118"
      ]
    },
    {
      "cell_type": "code",
      "execution_count": 1,
      "metadata": {
        "colab": {
          "base_uri": "https://localhost:8080/"
        },
        "id": "p35cUlOM9Y9k",
        "outputId": "8a49c1db-e521-4218-d478-dfc8d03b804d"
      },
      "outputs": [
        {
          "output_type": "stream",
          "name": "stdout",
          "text": [
            "PyTorch version: 2.0.1+cu118\n",
            "CUDA available: True\n"
          ]
        }
      ],
      "source": [
        "import torch\n",
        "print(f\"PyTorch version: {torch.__version__}\")\n",
        "print(f\"CUDA available: {torch.cuda.is_available()}\")"
      ]
    },
    {
      "cell_type": "markdown",
      "source": [
        "# NOTE:\n",
        "\n",
        "Make sure you have the /data folder which has the two files:\n",
        "\n",
        "1. chunks.json\n",
        "2. embeddings.json"
      ],
      "metadata": {
        "id": "3CUa71vIKeQP"
      }
    },
    {
      "cell_type": "markdown",
      "source": [
        "## SINGLE INPUT INFERENCE\n",
        "\n",
        "`!python3 main.py --model <model_name> --question <question_string>`\n",
        "\n",
        "models available: `flan-t5`, `distilbert`, `phi-2`\n",
        "\n",
        "sample question: Where is the 2025 Night Nation Run held?\n",
        "\n",
        "CLI COMMAND example: !python3 main.py --model phi-2 --question \"Where is the 2025 Night Nation Run held?\""
      ],
      "metadata": {
        "id": "o0pfCGX0Iadp"
      }
    },
    {
      "cell_type": "code",
      "execution_count": null,
      "metadata": {
        "colab": {
          "base_uri": "https://localhost:8080/"
        },
        "id": "DR6OFl1eiZnV",
        "outputId": "9fd65337-6ed6-4572-8d57-e8fa8d3dc9a7",
        "collapsed": true
      },
      "outputs": [
        {
          "name": "stdout",
          "output_type": "stream",
          "text": [
            "2025-03-15 07:15:08.451151: I tensorflow/core/util/port.cc:153] oneDNN custom operations are on. You may see slightly different numerical results due to floating-point round-off errors from different computation orders. To turn them off, set the environment variable `TF_ENABLE_ONEDNN_OPTS=0`.\n",
            "2025-03-15 07:15:08.470056: E external/local_xla/xla/stream_executor/cuda/cuda_fft.cc:477] Unable to register cuFFT factory: Attempting to register factory for plugin cuFFT when one has already been registered\n",
            "WARNING: All log messages before absl::InitializeLog() is called are written to STDERR\n",
            "E0000 00:00:1742022908.491975   15686 cuda_dnn.cc:8310] Unable to register cuDNN factory: Attempting to register factory for plugin cuDNN when one has already been registered\n",
            "E0000 00:00:1742022908.498648   15686 cuda_blas.cc:1418] Unable to register cuBLAS factory: Attempting to register factory for plugin cuBLAS when one has already been registered\n",
            "2025-03-15 07:15:08.520245: I tensorflow/core/platform/cpu_feature_guard.cc:210] This TensorFlow binary is optimized to use available CPU instructions in performance-critical operations.\n",
            "To enable the following instructions: AVX2 AVX512F AVX512_VNNI FMA, in other operations, rebuild TensorFlow with the appropriate compiler flags.\n",
            "/usr/local/lib/python3.11/dist-packages/torchvision/datapoints/__init__.py:12: UserWarning: The torchvision.datapoints and torchvision.transforms.v2 namespaces are still Beta. While we do not expect major breaking changes, some APIs may still change according to user feedback. Please submit any feedback you may have in this issue: https://github.com/pytorch/vision/issues/6753, and you can also check out https://github.com/pytorch/vision/issues/7319 to learn more about the APIs that we suspect might involve future changes. You can silence this warning by calling torchvision.disable_beta_transforms_warning().\n",
            "  warnings.warn(_BETA_TRANSFORMS_WARNING)\n",
            "/usr/local/lib/python3.11/dist-packages/torchvision/transforms/v2/__init__.py:54: UserWarning: The torchvision.datapoints and torchvision.transforms.v2 namespaces are still Beta. While we do not expect major breaking changes, some APIs may still change according to user feedback. Please submit any feedback you may have in this issue: https://github.com/pytorch/vision/issues/6753, and you can also check out https://github.com/pytorch/vision/issues/7319 to learn more about the APIs that we suspect might involve future changes. You can silence this warning by calling torchvision.disable_beta_transforms_warning().\n",
            "  warnings.warn(_BETA_TRANSFORMS_WARNING)\n",
            "Using device: cuda\n",
            "Loading model: microsoft/phi-2\n",
            "Loading model microsoft/phi-2 on cuda\n",
            "Loading checkpoint shards: 100% 2/2 [00:01<00:00,  1.00it/s]\n",
            "Loaded 3944 chunks and 3944 embeddings\n",
            "Loaded sentence-transformers/all-mpnet-base-v2 on cuda\n",
            "\n",
            "Question: Where is the 2025 Night Nation Run held?\n",
            "\n",
            "Retrieved chunks:\n",
            "\n",
            "Chunk 1 (similarity: 0.4871):\n",
            "× Categories All Events Concerts Shows Sports Venues City: Moon Contents Upcoming Events List Of All Events UPMC Events Center Select Your Dates Reset Cancel Apply Events: 2 Mar 13 2025 8:00 PM Thu UPMC Events Center Prices from $30 Avg. price ~ $90 Available Tickets: 237 Apr 12 2025 6:30 PM Sat UPMC Events Center Prices from $62 Avg.\n",
            "\n",
            "Chunk 2 (similarity: 0.4628):\n",
            "More than 30,000 participants cross the finish line during this weekend of fun running events. The Rush to Crush Cancer is a ride with three distance options to choose from to pedal and partner for cancer research. A survivor's walk will also happen race weekend. The unique America's Mile road race is short, fast and fun. Set against Pittsburgh's breathtaking North Shore, choose your challenge from diverse heats for all ages and abilities then meet at the finish line for the Mile 1.1 Post-Race Party. A post shared by P3R Habitat for Humanity Pittsburgh lets kids of all ability levels ages 7-15 run, swim and bike in this fun and accessible triathlon. This event happens at the North Park Pool every summer, and all kids get a shirt to tie-dye and a medal for participating. Go outside of your comfort zone and challenge yourself with the thrilling race run and walk options at Hell Hath No Hurry.\n",
            "\n",
            "Chunk 3 (similarity: 0.4628):\n",
            "More than 30,000 participants cross the finish line during this weekend of fun running events. The Rush to Crush Cancer is a ride with three distance options to choose from to pedal and partner for cancer research. A survivor's walk will also happen race weekend. The unique America's Mile road race is short, fast and fun. Set against Pittsburgh's breathtaking North Shore, choose your challenge from diverse heats for all ages and abilities then meet at the finish line for the Mile 1.1 Post-Race Party. A post shared by P3R Habitat for Humanity Pittsburgh lets kids of all ability levels ages 7-15 run, swim and bike in this fun and accessible triathlon. This event happens at the North Park Pool every summer, and all kids get a shirt to tie-dye and a medal for participating. Go outside of your comfort zone and challenge yourself with the thrilling race run and walk options at Hell Hath No Hurry.\n",
            "\n",
            "=== Using LightweightQA ===\n",
            "Setting `pad_token_id` to `eos_token_id`:50256 for open-end generation.\n",
            "Answer: .\"\n",
            "Options:\n",
            "A. Pittsburgh\n",
            "B. Moon\n",
            "C. North America\n",
            "D. None of the above\n",
            "Answer: A\n"
          ]
        }
      ],
      "source": [
        "!python3 main.py --model phi-2 --question \"Where is the 2025 Night Nation Run held?\""
      ]
    },
    {
      "cell_type": "markdown",
      "source": [
        "## FILE PROCESSING INFERENCE\n",
        "\n",
        "`!python3 main.py --model <model_name> --csv_file <test_file_in_csv_format> --batch_size <batch_size>`\n",
        "\n",
        "models available: `flan-t5`, `distilbert`, `phi-2`\n",
        "\n",
        "CLI COMMAND example: !python main.py --model distilbert --csv_file questions.csv --batch_size 16"
      ],
      "metadata": {
        "id": "8SJzbSjlJvia"
      }
    },
    {
      "cell_type": "code",
      "execution_count": 4,
      "metadata": {
        "colab": {
          "base_uri": "https://localhost:8080/"
        },
        "collapsed": true,
        "id": "xajJ8ESScI_n",
        "outputId": "85b93f64-52a4-4356-bad2-e6088eb9f907"
      },
      "outputs": [
        {
          "output_type": "stream",
          "name": "stdout",
          "text": [
            "2025-03-16 06:53:31.906365: I tensorflow/core/util/port.cc:153] oneDNN custom operations are on. You may see slightly different numerical results due to floating-point round-off errors from different computation orders. To turn them off, set the environment variable `TF_ENABLE_ONEDNN_OPTS=0`.\n",
            "2025-03-16 06:53:31.926464: E external/local_xla/xla/stream_executor/cuda/cuda_fft.cc:477] Unable to register cuFFT factory: Attempting to register factory for plugin cuFFT when one has already been registered\n",
            "WARNING: All log messages before absl::InitializeLog() is called are written to STDERR\n",
            "E0000 00:00:1742108011.949098   18901 cuda_dnn.cc:8310] Unable to register cuDNN factory: Attempting to register factory for plugin cuDNN when one has already been registered\n",
            "E0000 00:00:1742108011.956023   18901 cuda_blas.cc:1418] Unable to register cuBLAS factory: Attempting to register factory for plugin cuBLAS when one has already been registered\n",
            "2025-03-16 06:53:31.979272: I tensorflow/core/platform/cpu_feature_guard.cc:210] This TensorFlow binary is optimized to use available CPU instructions in performance-critical operations.\n",
            "To enable the following instructions: AVX2 AVX512F AVX512_VNNI FMA, in other operations, rebuild TensorFlow with the appropriate compiler flags.\n",
            "/usr/local/lib/python3.11/dist-packages/torchvision/datapoints/__init__.py:12: UserWarning: The torchvision.datapoints and torchvision.transforms.v2 namespaces are still Beta. While we do not expect major breaking changes, some APIs may still change according to user feedback. Please submit any feedback you may have in this issue: https://github.com/pytorch/vision/issues/6753, and you can also check out https://github.com/pytorch/vision/issues/7319 to learn more about the APIs that we suspect might involve future changes. You can silence this warning by calling torchvision.disable_beta_transforms_warning().\n",
            "  warnings.warn(_BETA_TRANSFORMS_WARNING)\n",
            "/usr/local/lib/python3.11/dist-packages/torchvision/transforms/v2/__init__.py:54: UserWarning: The torchvision.datapoints and torchvision.transforms.v2 namespaces are still Beta. While we do not expect major breaking changes, some APIs may still change according to user feedback. Please submit any feedback you may have in this issue: https://github.com/pytorch/vision/issues/6753, and you can also check out https://github.com/pytorch/vision/issues/7319 to learn more about the APIs that we suspect might involve future changes. You can silence this warning by calling torchvision.disable_beta_transforms_warning().\n",
            "  warnings.warn(_BETA_TRANSFORMS_WARNING)\n",
            "Using device: cuda\n",
            "Loading model: distilbert/distilbert-base-uncased-distilled-squad\n",
            "Loading model distilbert/distilbert-base-uncased-distilled-squad on cuda\n",
            "tokenizer_config.json: 100% 48.0/48.0 [00:00<00:00, 290kB/s]\n",
            "config.json: 100% 451/451 [00:00<00:00, 2.99MB/s]\n",
            "vocab.txt: 100% 232k/232k [00:00<00:00, 35.7MB/s]\n",
            "tokenizer.json: 100% 466k/466k [00:00<00:00, 2.34MB/s]\n",
            "model.safetensors: 100% 265M/265M [00:01<00:00, 236MB/s]\n",
            "Loaded 3944 chunks and 3944 embeddings\n",
            "Loaded sentence-transformers/all-mpnet-base-v2 on cuda\n",
            "Processing 575 questions...\n",
            "Loaded 3944 chunks and 3944 embeddings\n",
            "Loaded sentence-transformers/all-mpnet-base-v2 on cuda\n",
            "Using device: cuda\n",
            "Loading model: distilbert/distilbert-base-uncased-distilled-squad\n",
            "Loading model distilbert/distilbert-base-uncased-distilled-squad on cuda\n",
            "Processing Batches:   0% 0/36 [00:00<?, ?it/s]\n",
            "Sample question: Where is the Family Nature Hike held?\n",
            "Sample answer: old economy village in ambridge\n",
            "\n",
            "Processing Batches: 100% 36/36 [00:43<00:00,  1.21s/it]\n",
            "Inference completed. Results saved to 'questions_with_outputs.csv'.\n"
          ]
        }
      ],
      "source": [
        "!python main.py --model distilbert --csv_file questions.csv --batch_size 16"
      ]
    },
    {
      "cell_type": "code",
      "execution_count": null,
      "metadata": {
        "id": "us7Ar_acMuIA"
      },
      "outputs": [],
      "source": []
    }
  ],
  "metadata": {
    "accelerator": "GPU",
    "colab": {
      "gpuType": "A100",
      "provenance": []
    },
    "kernelspec": {
      "display_name": "Python 3",
      "name": "python3"
    },
    "language_info": {
      "name": "python"
    }
  },
  "nbformat": 4,
  "nbformat_minor": 0
}